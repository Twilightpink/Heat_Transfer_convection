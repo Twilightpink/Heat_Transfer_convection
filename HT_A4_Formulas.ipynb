{
 "cells": [
  {
   "cell_type": "code",
   "execution_count": 3,
   "metadata": {},
   "outputs": [],
   "source": [
    "import numpy as np\n",
    "import pandas as pd"
   ]
  },
  {
   "cell_type": "code",
   "execution_count": 4,
   "metadata": {},
   "outputs": [],
   "source": [
    "#5.44,5.51 Laminar, local Tw = const, (0.6<Pr<50 and Pr>100) and Rex<5e5\n",
    "def Nu_x1(Pr,Re_x):\n",
    "    if (0.6<Pr < 50) and (Re_x < 5e5): \n",
    "        return 0.332*(Re_x**(0.5))*(Pr**(1/3))\n",
    "    elif (Pr >100) and (Re_x < 5e5):\n",
    "        return 0.3387*(Re_x**(0.5))*(Pr**(1/3))/((1+((0.0468/Pr)**(2/3)))**(1/4))"
   ]
  },
  {
   "cell_type": "code",
   "execution_count": 5,
   "metadata": {},
   "outputs": [],
   "source": [
    "#5.48,5.51 Laminar, local qw = const, Rex<5e5, 0.6<Pr<50, Pr>100\n",
    "def Nu_x2(Pr,Re_x):\n",
    "    if (0.6<Pr < 50) and (Re_x < 5e5): \n",
    "        return 0.453*(Re_x**(0.5))*(Pr**(1/3))\n",
    "    elif (Pr >100) and (Re_x < 5e5):\n",
    "        return 0.4637*(Re_x**(0.5))*(Pr**(1/3))/((1+((0.0207/Pr)**(2/3)))**(1/4))"
   ]
  },
  {
   "cell_type": "code",
   "execution_count": 2,
   "metadata": {},
   "outputs": [],
   "source": [
    "#Laminar avg\n",
    "def Nu_L(Pr,Re_L):\n",
    "    assert ((0.6<Pr <50) and (Re_L < 5e5)), 'Enter the values within the range'\n",
    "    return 0.664*((Re_L)**0.5)*((Pr)**(1/3))"
   ]
  },
  {
   "cell_type": "code",
   "execution_count": 7,
   "metadata": {},
   "outputs": [],
   "source": [
    "#laminar local, liquid metal\n",
    "def Nu_liq_metal(Pr, Re_x):\n",
    "        assert ((0< Pr < 1) and (Re_x < 5e5)),'Enter the correct value for Prandtl number for liquid metal'\n",
    "        return 0.564*(Re_x)*(Pr**(1/3))"
   ]
  },
  {
   "cell_type": "code",
   "execution_count": 8,
   "metadata": {},
   "outputs": [],
   "source": [
    "#laminar local when x0,x is known(Plate is not heated over the entire length)\n",
    "def Nu_x(Pr,Re_x,x,x0):\n",
    "    assert ((0.6< Pr < 50) and (Re_x < 5e5))\n",
    "    return 0.332*(Re_x**0.5)*(Pr**(1/3))*(1-(x0/x)**0.75)**(-1/3)"
   ]
  },
  {
   "cell_type": "code",
   "execution_count": 9,
   "metadata": {},
   "outputs": [],
   "source": [
    "#Turbulent local\n",
    "def St_x1(Pr,Re_x):\n",
    "    if (5e5< Re_x < 1e7):\n",
    "        return 0.0296*(Re_x**(-0.2))*(Pr**(-2/3))\n",
    "    elif (1e7 < Re_x < 1e9):\n",
    "        return 0.185*(np.log(Re_x)**(-2.584))*(Pr**(-2/3))\n"
   ]
  },
  {
   "cell_type": "code",
   "execution_count": 10,
   "metadata": {},
   "outputs": [],
   "source": [
    "#laminar-turbulent avg stanton\n",
    "def St_x2(Pr,Re_l):\n",
    "    assert (Re_l < 1e7),'Check the Re_ L value'\n",
    "    return 0.037*(Re_l**(-0.2)) - 871*(Re_l**-1)"
   ]
  },
  {
   "cell_type": "code",
   "execution_count": 11,
   "metadata": {},
   "outputs": [],
   "source": [
    "#laminar-turbulent avg nusselt\n",
    "def Nu_L2 (Pr,Re_L):\n",
    "    assert (Re_L <1e7), 'Check Reynolds number'\n",
    "    return (Pr**(1/3))*((0.037*(Re_L)**0.8) - 871)\n",
    "    \n",
    "def Nu_mu (Pr, Re_L,mu_infinite,mu_w):\n",
    "    assert (Re_L <1e7), 'Check Reynolds number'\n",
    "    return 0.036*((Pr)**0.43)*((Re_L**0.8)-9200)*(mu_infinite/mu_w)**(1/4)"
   ]
  },
  {
   "cell_type": "code",
   "execution_count": 12,
   "metadata": {},
   "outputs": [],
   "source": [
    "#Boundary layer thickness\n",
    "def delbyx_laminar (Re_x):\n",
    "    return 4.64/(Re_x**0.5)\n",
    "\n",
    "def delbyx_turb (Re_x):\n",
    "    return 0.381/(Re_x**(1/5))"
   ]
  },
  {
   "cell_type": "code",
   "execution_count": 13,
   "metadata": {},
   "outputs": [],
   "source": [
    "#Friction Coefficients\n",
    "def cf_laminar (Re_x):\n",
    "    assert (Re_x < 5e5), 'Check Reynolds number!'\n",
    "    return 0.664/(Re_x**0.5)\n",
    "\n",
    "def cf_turb (Re_x):\n",
    "    if (Re_x < 5e5):\n",
    "        return 0.0592/(Re_x**(1/5))\n",
    "    elif (5e5 < Re_x <1e7):\n",
    "        return 0.37*(np.log(Re_x))**(-2.584)\n",
    "\n",
    "#Get values for A from table 5.1 pg.240\n",
    "def cf_avg (Re_x,Re_cri,A):\n",
    "    assert(Re_cri < Re_x < 1e9), 'Check Reynolds number!'\n",
    "    return 0.455/(np.log(Re_x))**(2.584) - A/Re_x\n"
   ]
  },
  {
   "cell_type": "code",
   "execution_count": 14,
   "metadata": {},
   "outputs": [],
   "source": [
    "def tf (tinf,tw):\n",
    "    return (tinf+tw)/2\n"
   ]
  },
  {
   "cell_type": "code",
   "execution_count": 15,
   "metadata": {},
   "outputs": [],
   "source": [
    "def f2c (T):\n",
    "    return (5.0/9.0) * T + 32"
   ]
  },
  {
   "cell_type": "code",
   "execution_count": 17,
   "metadata": {},
   "outputs": [],
   "source": [
    "table = {'re_cri' :[3e5,5e5, 1e6, 3e6],\n",
    "         'A' : [1055, 1742, 3340, 8940]}\n",
    "df = pd.DataFrame(table)\n"
   ]
  }
 ],
 "metadata": {
  "kernelspec": {
   "display_name": "Python 3",
   "language": "python",
   "name": "python3"
  },
  "language_info": {
   "codemirror_mode": {
    "name": "ipython",
    "version": 3
   },
   "file_extension": ".py",
   "mimetype": "text/x-python",
   "name": "python",
   "nbconvert_exporter": "python",
   "pygments_lexer": "ipython3",
   "version": "3.8.3"
  }
 },
 "nbformat": 4,
 "nbformat_minor": 4
}
